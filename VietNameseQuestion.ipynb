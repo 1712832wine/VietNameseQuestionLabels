{
  "nbformat": 4,
  "nbformat_minor": 0,
  "metadata": {
    "colab": {
      "name": "VietNameseQuestion.ipynb",
      "provenance": [],
      "collapsed_sections": [],
      "toc_visible": true,
      "authorship_tag": "ABX9TyM3PBezkdyUyf71bTyAquTj",
      "include_colab_link": true
    },
    "kernelspec": {
      "name": "python3",
      "display_name": "Python 3"
    },
    "language_info": {
      "name": "python"
    }
  },
  "cells": [
    {
      "cell_type": "markdown",
      "metadata": {
        "id": "view-in-github",
        "colab_type": "text"
      },
      "source": [
        "<a href=\"https://colab.research.google.com/github/1712832wine/VietNameseQuestionLabels/blob/main/VietNameseQuestion.ipynb\" target=\"_parent\"><img src=\"https://colab.research.google.com/assets/colab-badge.svg\" alt=\"Open In Colab\"/></a>"
      ]
    },
    {
      "cell_type": "markdown",
      "metadata": {
        "id": "f3dNMQJK3lhK"
      },
      "source": [
        "# Prepare Data"
      ]
    },
    {
      "cell_type": "code",
      "metadata": {
        "id": "1ZNaAQrOazK7"
      },
      "source": [
        "import csv\n",
        "from collections import Counter\n",
        "from sklearn.feature_extraction.text import CountVectorizer\n",
        "from sklearn.feature_extraction.text import TfidfTransformer\n",
        "from sklearn import svm\n",
        "train = {\n",
        "    \"sentences\": [],\n",
        "    \"labels\": []\n",
        "}\n",
        "test = {\n",
        "    \"sentences\": [],\n",
        "    \"labels\": []\n",
        "}"
      ],
      "execution_count": 53,
      "outputs": []
    },
    {
      "cell_type": "code",
      "metadata": {
        "id": "GGdBI9BRbuJ6"
      },
      "source": [
        "def read_data(filepath):\n",
        "    with open(filepath, mode='r', encoding='utf-8') as file:\n",
        "        reader = csv.reader(file)\n",
        "        for row in reader:\n",
        "            if (row[1] != ''):\n",
        "                if (row[4]=='TRAIN'):\n",
        "                    train['sentences'].append(row[1])\n",
        "                    train['labels'].append(row[2])\n",
        "                else:\n",
        "                    test['sentences'].append(row[1])\n",
        "                    test['labels'].append(row[2])"
      ],
      "execution_count": 54,
      "outputs": []
    },
    {
      "cell_type": "code",
      "metadata": {
        "colab": {
          "base_uri": "https://localhost:8080/"
        },
        "id": "nnWYzdbhb1Z9",
        "outputId": "00efa5f5-c00f-4dea-ca7e-7d7c70baaf34"
      },
      "source": [
        "#10 câu hỏi đầu tiên\n",
        "read_data(\"input.csv\")\n",
        "print(train['sentences'][:10])\n",
        "print(test['sentences'][:10])"
      ],
      "execution_count": 55,
      "outputs": [
        {
          "output_type": "stream",
          "text": [
            "['Con gà là con gì', 'Định nghĩa định lí pytago là gì', 'Thế nào gọi là bò sát', 'Thế nào gọi là gia cầm', 'Thế nào gọi là động vật có vú', 'Thế nào gọi là hiệu ứng nhà kính', 'Định nghĩa của môi trường sống', 'Quả cam có vị chua như thế nào', 'Trời hôm nay nóng như thế nào', 'Cơm mẹ nấu ngon như thế nào']\n",
            "['Định nghĩa của thuyết tiến hóa', 'Thế nào gọi là sự nóng lên toàn cầu', 'Thế nào gọi là xe máy', 'Con gà trông như thế nào', 'Quả chanh chua như thế nào', 'Con chó sủa như thế nào', 'Con mèo kêu như thế nào', 'Tại sao nên ăn chín uống sôi', 'Tại sao nên đi ngủ sớm', 'Màu đỏ là màu gì']\n"
          ],
          "name": "stdout"
        }
      ]
    },
    {
      "cell_type": "code",
      "metadata": {
        "colab": {
          "base_uri": "https://localhost:8080/"
        },
        "id": "6obj2ekFcRj-",
        "outputId": "60963f86-5eca-4a50-f642-32b8e59e44e9"
      },
      "source": [
        "# các loại nhãn trong tập train\n",
        "set_labels = Counter(train['labels']).keys()\n",
        "print(set_labels)\n",
        "# labels to id\n",
        "label2id = {x: i for i, x in enumerate(set_labels)}\n",
        "print(label2id)"
      ],
      "execution_count": 74,
      "outputs": [
        {
          "output_type": "stream",
          "text": [
            "dict_keys(['DESC.def', 'DESC.desc', 'DESC.reason', 'ENTY.language', 'ENTY.sport', 'HUM.desc', 'HUM.group', 'HUM.ind', 'LOC.city', 'LOC.country', 'NUM.data', 'ABBR.abb', 'ABBR.exp', 'ENTY', 'LOC', 'NUM', 'NUM.date', 'SELECT', 'ENTY.animal', 'ENTY.plant', 'ENTY.religion', 'Select', 'ENT'])\n",
            "{'DESC.def': 0, 'DESC.desc': 1, 'DESC.reason': 2, 'ENTY.language': 3, 'ENTY.sport': 4, 'HUM.desc': 5, 'HUM.group': 6, 'HUM.ind': 7, 'LOC.city': 8, 'LOC.country': 9, 'NUM.data': 10, 'ABBR.abb': 11, 'ABBR.exp': 12, 'ENTY': 13, 'LOC': 14, 'NUM': 15, 'NUM.date': 16, 'SELECT': 17, 'ENTY.animal': 18, 'ENTY.plant': 19, 'ENTY.religion': 20, 'Select': 21, 'ENT': 22}\n"
          ],
          "name": "stdout"
        }
      ]
    },
    {
      "cell_type": "code",
      "metadata": {
        "colab": {
          "base_uri": "https://localhost:8080/"
        },
        "id": "JSzgaaFCgSYB",
        "outputId": "cf4e7035-a9aa-4240-e335-0845a17f2527"
      },
      "source": [
        "# độ lớn tập train và tập test\n",
        "print(\"#training size\", len(train['sentences']))\n",
        "print(\"#testing size\", len(test['sentences']))"
      ],
      "execution_count": 57,
      "outputs": [
        {
          "output_type": "stream",
          "text": [
            "#training size 1837\n",
            "#testing size 442\n"
          ],
          "name": "stdout"
        }
      ]
    },
    {
      "cell_type": "markdown",
      "metadata": {
        "id": "AeTPcBtD3bSY"
      },
      "source": [
        "# Sentences/Labels to Vector\n"
      ]
    },
    {
      "cell_type": "code",
      "metadata": {
        "colab": {
          "base_uri": "https://localhost:8080/"
        },
        "id": "85fDNEf5lv_y",
        "outputId": "215f72c5-ffea-4167-fae6-59d8dc297c62"
      },
      "source": [
        "# chuyển nhãn từ chữ thành số dựa vào id \n",
        "train_target = [label2id[x] for x in train['labels']]\n",
        "print(train_target)\n",
        "print(len(train_target))"
      ],
      "execution_count": 58,
      "outputs": [
        {
          "output_type": "stream",
          "text": [
            "[0, 0, 0, 0, 0, 0, 0, 1, 1, 1, 1, 1, 1, 2, 2, 2, 2, 2, 2, 2, 2, 3, 3, 3, 3, 3, 4, 4, 4, 5, 5, 5, 5, 5, 5, 5, 6, 6, 6, 6, 6, 6, 6, 6, 7, 7, 7, 7, 7, 7, 7, 7, 7, 8, 8, 8, 8, 8, 8, 8, 8, 8, 8, 9, 9, 9, 9, 9, 9, 9, 9, 9, 10, 10, 10, 10, 10, 10, 10, 10, 11, 11, 11, 11, 11, 11, 11, 11, 11, 12, 12, 12, 12, 12, 12, 12, 12, 12, 0, 0, 0, 0, 1, 1, 1, 1, 1, 1, 1, 1, 2, 2, 2, 2, 2, 2, 2, 2, 13, 13, 13, 13, 13, 13, 13, 13, 13, 13, 5, 5, 5, 5, 5, 5, 5, 5, 6, 6, 6, 6, 6, 7, 7, 7, 7, 7, 7, 14, 14, 14, 14, 14, 14, 14, 14, 14, 8, 8, 8, 8, 8, 8, 8, 8, 8, 9, 9, 9, 9, 9, 9, 15, 15, 15, 15, 15, 15, 15, 15, 16, 16, 16, 16, 16, 16, 16, 16, 16, 17, 17, 17, 17, 17, 17, 17, 17, 17, 17, 11, 11, 11, 11, 11, 12, 12, 12, 12, 12, 12, 12, 0, 0, 0, 0, 0, 0, 0, 0, 0, 0, 1, 1, 1, 1, 1, 1, 1, 1, 1, 2, 2, 2, 2, 2, 2, 2, 2, 2, 2, 13, 13, 13, 13, 13, 13, 13, 5, 5, 5, 5, 5, 5, 5, 5, 5, 6, 6, 6, 6, 6, 6, 6, 6, 7, 7, 7, 7, 7, 7, 7, 7, 14, 14, 14, 14, 14, 14, 14, 14, 8, 8, 8, 8, 8, 8, 8, 9, 9, 9, 9, 9, 9, 9, 15, 15, 15, 15, 15, 15, 15, 15, 15, 15, 16, 16, 16, 16, 16, 16, 16, 16, 17, 17, 17, 17, 17, 17, 17, 11, 11, 11, 11, 11, 11, 11, 12, 12, 12, 12, 12, 12, 12, 12, 0, 0, 0, 0, 0, 0, 1, 1, 1, 1, 1, 1, 1, 1, 2, 2, 2, 2, 2, 2, 2, 13, 13, 13, 13, 13, 13, 13, 13, 13, 5, 5, 5, 5, 5, 5, 5, 5, 5, 6, 6, 6, 6, 6, 6, 6, 7, 7, 7, 7, 7, 7, 7, 7, 14, 14, 14, 14, 14, 14, 14, 14, 8, 8, 8, 8, 8, 8, 8, 8, 9, 9, 9, 9, 9, 9, 9, 15, 15, 15, 15, 15, 15, 15, 15, 15, 16, 16, 16, 16, 16, 16, 16, 16, 17, 17, 17, 17, 17, 17, 17, 17, 17, 17, 11, 11, 11, 11, 11, 11, 11, 11, 11, 11, 12, 12, 12, 12, 12, 12, 12, 12, 12, 12, 0, 0, 0, 0, 0, 0, 0, 0, 1, 1, 1, 1, 1, 1, 1, 1, 1, 2, 2, 2, 2, 2, 2, 2, 13, 13, 13, 13, 13, 13, 5, 5, 5, 5, 5, 6, 6, 6, 6, 6, 6, 6, 6, 7, 7, 7, 7, 7, 14, 14, 14, 14, 14, 14, 14, 14, 8, 8, 8, 8, 8, 8, 9, 9, 9, 9, 9, 9, 9, 15, 15, 15, 15, 15, 15, 15, 15, 15, 16, 16, 16, 16, 16, 16, 16, 16, 17, 17, 17, 17, 17, 11, 11, 11, 11, 11, 11, 11, 11, 12, 12, 12, 12, 12, 12, 12, 12, 0, 0, 0, 0, 0, 0, 0, 0, 0, 1, 1, 1, 1, 1, 1, 2, 2, 2, 2, 2, 2, 2, 2, 5, 5, 5, 5, 5, 5, 5, 5, 6, 6, 6, 6, 6, 6, 6, 6, 7, 7, 7, 7, 7, 7, 7, 8, 8, 8, 8, 8, 8, 8, 8, 9, 9, 9, 9, 9, 9, 9, 9, 9, 16, 16, 16, 16, 16, 16, 16, 16, 17, 17, 17, 17, 17, 17, 18, 18, 18, 18, 18, 18, 18, 18, 19, 19, 19, 19, 19, 19, 19, 19, 19, 20, 20, 20, 20, 20, 20, 20, 20, 20, 11, 11, 11, 11, 11, 11, 11, 11, 12, 12, 12, 12, 12, 12, 12, 0, 0, 0, 0, 0, 0, 0, 1, 1, 1, 1, 1, 1, 1, 2, 2, 2, 2, 2, 2, 2, 2, 2, 2, 13, 13, 13, 13, 13, 13, 13, 13, 5, 5, 5, 5, 5, 5, 6, 6, 6, 6, 6, 6, 7, 7, 7, 7, 7, 7, 7, 7, 7, 14, 14, 14, 14, 14, 14, 14, 14, 8, 8, 8, 8, 8, 8, 8, 8, 9, 9, 9, 9, 9, 9, 9, 9, 15, 15, 15, 15, 15, 15, 16, 16, 16, 16, 16, 16, 17, 17, 17, 17, 17, 17, 17, 17, 17, 11, 11, 11, 11, 11, 11, 11, 11, 12, 12, 12, 12, 12, 12, 12, 12, 0, 0, 0, 0, 0, 0, 0, 0, 1, 1, 1, 1, 1, 1, 1, 2, 2, 2, 2, 2, 2, 2, 2, 13, 13, 13, 13, 13, 13, 13, 13, 13, 5, 5, 5, 5, 5, 5, 5, 5, 5, 5, 6, 6, 6, 6, 6, 6, 6, 6, 6, 7, 7, 7, 7, 7, 14, 14, 14, 14, 14, 14, 14, 8, 8, 8, 8, 8, 8, 9, 9, 9, 9, 9, 9, 9, 9, 9, 15, 15, 15, 15, 15, 15, 15, 15, 15, 16, 16, 16, 16, 16, 16, 17, 17, 17, 17, 17, 17, 17, 11, 11, 11, 11, 11, 11, 12, 12, 12, 12, 12, 12, 12, 12, 0, 0, 0, 0, 0, 0, 0, 0, 0, 1, 1, 1, 1, 1, 1, 1, 1, 2, 2, 2, 2, 2, 2, 2, 2, 2, 13, 13, 13, 13, 13, 13, 13, 5, 5, 5, 5, 5, 5, 5, 6, 6, 6, 6, 6, 6, 6, 6, 6, 7, 7, 7, 7, 7, 7, 7, 7, 14, 14, 14, 14, 14, 14, 14, 14, 14, 8, 8, 8, 8, 8, 8, 8, 9, 9, 9, 9, 9, 9, 9, 9, 15, 15, 15, 15, 15, 15, 15, 15, 16, 16, 16, 16, 16, 16, 16, 16, 16, 17, 17, 17, 17, 17, 17, 17, 17, 17, 15, 15, 15, 15, 15, 15, 15, 15, 15, 13, 13, 13, 13, 13, 13, 13, 21, 21, 21, 21, 21, 21, 21, 16, 16, 16, 16, 16, 16, 16, 16, 16, 16, 9, 9, 9, 9, 9, 9, 9, 9, 9, 8, 8, 8, 8, 8, 8, 8, 8, 8, 2, 2, 2, 2, 2, 2, 2, 2, 0, 0, 0, 0, 0, 0, 0, 0, 6, 6, 6, 6, 6, 6, 6, 6, 14, 14, 14, 14, 14, 14, 14, 14, 7, 7, 7, 7, 7, 7, 7, 7, 5, 5, 5, 5, 5, 5, 5, 5, 5, 1, 1, 1, 1, 1, 1, 1, 1, 1, 1, 12, 12, 12, 12, 12, 12, 12, 12, 11, 11, 11, 11, 11, 11, 11, 11, 11, 11, 11, 11, 11, 11, 11, 12, 12, 12, 12, 12, 0, 0, 0, 0, 0, 0, 0, 1, 1, 1, 1, 2, 2, 13, 13, 13, 13, 13, 13, 13, 13, 13, 13, 13, 5, 5, 5, 5, 5, 5, 5, 5, 7, 7, 7, 7, 7, 7, 7, 7, 7, 7, 14, 14, 14, 14, 14, 14, 8, 8, 8, 8, 8, 8, 8, 8, 8, 8, 8, 9, 9, 9, 9, 9, 9, 9, 9, 9, 15, 15, 15, 15, 15, 15, 15, 15, 15, 15, 16, 16, 16, 16, 16, 16, 16, 16, 16, 16, 16, 16, 16, 16, 16, 16, 16, 16, 16, 16, 16, 16, 11, 11, 11, 11, 11, 11, 11, 11, 12, 12, 12, 12, 12, 12, 12, 0, 0, 0, 0, 1, 1, 1, 1, 1, 1, 1, 1, 2, 2, 2, 2, 2, 2, 2, 2, 2, 2, 13, 13, 13, 13, 5, 5, 5, 5, 5, 6, 6, 6, 6, 6, 6, 6, 6, 6, 7, 7, 7, 7, 7, 7, 7, 14, 14, 14, 14, 14, 14, 14, 14, 8, 8, 8, 8, 8, 8, 8, 8, 8, 9, 9, 9, 9, 9, 15, 15, 15, 15, 15, 16, 16, 17, 17, 17, 17, 17, 17, 17, 17, 17, 11, 11, 11, 11, 11, 11, 11, 11, 12, 12, 12, 12, 12, 12, 12, 12, 12, 12, 0, 0, 0, 0, 0, 0, 0, 0, 1, 1, 1, 1, 1, 1, 2, 2, 2, 2, 2, 2, 2, 2, 2, 22, 22, 22, 22, 22, 22, 22, 22, 5, 5, 5, 5, 5, 5, 5, 5, 5, 5, 6, 6, 6, 6, 6, 6, 6, 6, 6, 6, 7, 7, 7, 7, 7, 7, 7, 7, 7, 14, 14, 14, 14, 14, 14, 14, 14, 8, 8, 8, 8, 8, 8, 8, 8, 8, 9, 9, 9, 9, 9, 9, 9, 15, 15, 15, 15, 15, 16, 16, 16, 16, 16, 16, 16, 16, 17, 17, 17, 17, 17, 17, 11, 11, 11, 11, 11, 11, 11, 11, 11, 12, 12, 12, 12, 12, 12, 12, 12, 0, 0, 0, 0, 0, 0, 0, 0, 0, 1, 1, 1, 1, 1, 1, 2, 2, 2, 2, 2, 2, 13, 13, 13, 13, 13, 13, 13, 13, 5, 5, 5, 5, 5, 5, 6, 6, 6, 6, 6, 6, 6, 6, 6, 6, 7, 7, 7, 7, 7, 7, 14, 14, 14, 14, 14, 14, 14, 14, 8, 8, 8, 8, 8, 8, 8, 8, 8, 9, 9, 9, 9, 9, 9, 9, 9, 9, 9, 15, 15, 15, 15, 15, 15, 15, 15, 16, 16, 16, 16, 16, 16, 16, 16, 17, 17, 17, 17, 17, 17, 17, 11, 11, 11, 11, 11, 11, 11, 12, 12, 12, 12, 12, 12, 12, 12, 12, 0, 0, 0, 0, 0, 0, 0, 0, 0, 1, 1, 1, 1, 1, 1, 1, 2, 2, 2, 2, 2, 2, 2, 2, 2, 13, 13, 13, 13, 13, 13, 13, 13, 5, 5, 5, 5, 5, 6, 6, 6, 6, 6, 6, 6, 6, 6, 7, 7, 7, 7, 7, 7, 7, 7, 14, 14, 14, 14, 14, 14, 14, 14, 14, 8, 8, 8, 8, 8, 8, 8, 8, 8, 9, 9, 9, 9, 9, 9, 9, 9, 9, 15, 15, 15, 15, 15, 15, 15, 15, 15, 16, 16, 16, 16, 16, 16, 16, 16, 17, 17, 17, 17, 17, 17, 17, 17, 17, 11, 11, 11, 11, 11, 11, 11, 11, 12, 12, 12, 12, 12, 12, 12, 12, 0, 0, 0, 0, 0, 0, 0, 0, 1, 1, 1, 1, 1, 1, 1, 1, 2, 2, 2, 2, 2, 2, 2, 13, 13, 13, 13, 13, 13, 13, 13, 13, 13, 5, 5, 5, 5, 5, 5, 5, 5, 5, 6, 6, 6, 6, 6, 6, 6, 7, 7, 7, 7, 7, 7, 7, 7, 7, 14, 14, 14, 14, 14, 14, 14, 14, 14, 8, 8, 8, 8, 8, 8, 8, 8, 8, 9, 9, 9, 9, 9, 9, 9, 9, 15, 15, 15, 15, 15, 16, 16, 16, 16, 17, 17, 17, 17, 17, 17, 17, 17, 17, 17]\n",
            "1837\n"
          ],
          "name": "stdout"
        }
      ]
    },
    {
      "cell_type": "markdown",
      "metadata": {
        "id": "Lyz1uagu3jrp"
      },
      "source": [
        ""
      ]
    },
    {
      "cell_type": "code",
      "metadata": {
        "colab": {
          "base_uri": "https://localhost:8080/"
        },
        "id": "vo8dXx82oZVu",
        "outputId": "3e931487-4381-436d-983f-4c1c05b064b5"
      },
      "source": [
        "count_vect = CountVectorizer(ngram_range=(1,2))\n",
        "X_train_counts = count_vect.fit_transform(train['sentences'])\n",
        "print(X_train_counts.shape)\n",
        "print(X_train_counts.toarray())"
      ],
      "execution_count": 59,
      "outputs": [
        {
          "output_type": "stream",
          "text": [
            "(1837, 8813)\n",
            "[[0 0 0 ... 0 0 0]\n",
            " [0 0 0 ... 0 0 0]\n",
            " [0 0 0 ... 0 0 0]\n",
            " ...\n",
            " [0 0 0 ... 0 0 0]\n",
            " [0 0 0 ... 0 0 0]\n",
            " [0 0 0 ... 0 0 0]]\n"
          ],
          "name": "stdout"
        }
      ]
    },
    {
      "cell_type": "code",
      "metadata": {
        "colab": {
          "base_uri": "https://localhost:8080/"
        },
        "id": "yEZPut961eFI",
        "outputId": "3878d410-09f0-4125-d73e-a8cb0c38441a"
      },
      "source": [
        "# method 1: no-transofrm\n",
        "X_train = X_train_counts\n",
        "# method 2: use tf\n",
        "tf_transformer = TfidfTransformer(use_idf=False).fit(X_train_counts)\n",
        "X_train = tf_transformer.transform(X_train_counts)\n",
        "# method 3: use tf-idf\n",
        "# tf_transformer = TfidfTransformer(use_idf=True).fit(X_train_counts)\n",
        "# X_train = tf_transformer.transform(X_train_counts)\n",
        "# print(X_train.shape)\n",
        "print(X_train.toarray())"
      ],
      "execution_count": 60,
      "outputs": [
        {
          "output_type": "stream",
          "text": [
            "[[0. 0. 0. ... 0. 0. 0.]\n",
            " [0. 0. 0. ... 0. 0. 0.]\n",
            " [0. 0. 0. ... 0. 0. 0.]\n",
            " ...\n",
            " [0. 0. 0. ... 0. 0. 0.]\n",
            " [0. 0. 0. ... 0. 0. 0.]\n",
            " [0. 0. 0. ... 0. 0. 0.]]\n"
          ],
          "name": "stdout"
        }
      ]
    },
    {
      "cell_type": "code",
      "metadata": {
        "colab": {
          "base_uri": "https://localhost:8080/"
        },
        "id": "fSI5qcMY1rRn",
        "outputId": "77685a77-a9d2-40e6-b178-c08103e5ff27"
      },
      "source": [
        "# method 1\n",
        "# MultinomialNB\n",
        "# from sklearn.naive_bayes import MultinomialNB\n",
        "# clf = MultinomialNB().fit(X_train, train_target)\n",
        "# method 2\n",
        "# from sklearn.linear_model import SGDClassifier\n",
        "# clf = SGDClassifier(loss='hinge', penalty='l2',\n",
        "# alpha=1e-3, random_state=42,\n",
        "# max_iter=100, tol=None)\n",
        "# clf.fit(X_train, train_target)\n",
        "# method 3\n",
        "clf = svm.LinearSVC()\n",
        "clf.fit(X_train, train_target)\n",
        "# method 4\n",
        "#clf = svm.SVC(kernel='linear')\n",
        "# # clf = svm.SVC(kernel='rbf')\n",
        "#clf.fit(X_train, train_target)\n",
        "# method 5\n",
        "# from sklearn.linear_model import LogisticRegression\n",
        "# clf = LogisticRegression(penalty='l2', verbose=1)\n",
        "# clf.fit(X_train, train_target)"
      ],
      "execution_count": 61,
      "outputs": [
        {
          "output_type": "execute_result",
          "data": {
            "text/plain": [
              "LinearSVC(C=1.0, class_weight=None, dual=True, fit_intercept=True,\n",
              "          intercept_scaling=1, loss='squared_hinge', max_iter=1000,\n",
              "          multi_class='ovr', penalty='l2', random_state=None, tol=0.0001,\n",
              "          verbose=0)"
            ]
          },
          "metadata": {
            "tags": []
          },
          "execution_count": 61
        }
      ]
    },
    {
      "cell_type": "markdown",
      "metadata": {
        "id": "w-hv8q8n5d-O"
      },
      "source": [
        "# Predict"
      ]
    },
    {
      "cell_type": "code",
      "metadata": {
        "id": "8IbzMTUx9F-z"
      },
      "source": [
        "#id to labels\n",
        "id2label = {i: x for i, x in enumerate(set_labels)}"
      ],
      "execution_count": 63,
      "outputs": []
    },
    {
      "cell_type": "code",
      "metadata": {
        "colab": {
          "base_uri": "https://localhost:8080/"
        },
        "id": "8NyG4CQa2NIP",
        "outputId": "1ec10e5a-2b7a-445d-b7a1-7b61429f0a6a"
      },
      "source": [
        "X_new_counts = count_vect.transform(test['sentences'])\n",
        "X_new = X_new_counts\n",
        "# X_new = tf_transformer.transform(X_new_counts)\n",
        "predicted = clf.predict(X_new)\n",
        "for doc, category in zip(test['sentences'], predicted):\n",
        "  print(doc, category,\":\", id2label[category])"
      ],
      "execution_count": 66,
      "outputs": [
        {
          "output_type": "stream",
          "text": [
            "Định nghĩa của thuyết tiến hóa 0 : DESC.def\n",
            "Thế nào gọi là sự nóng lên toàn cầu 0 : DESC.def\n",
            "Thế nào gọi là xe máy 0 : DESC.def\n",
            "Con gà trông như thế nào 1 : DESC.desc\n",
            "Quả chanh chua như thế nào 1 : DESC.desc\n",
            "Con chó sủa như thế nào 1 : DESC.desc\n",
            "Con mèo kêu như thế nào 1 : DESC.desc\n",
            "Tại sao nên ăn chín uống sôi 2 : DESC.reason\n",
            "Tại sao nên đi ngủ sớm 2 : DESC.reason\n",
            "Màu đỏ là màu gì 13 : ENTY\n",
            "Diện tích sân bóng đá là bao nhiêu 15 : NUM\n",
            "Cô ấy có hiếu không 5 : HUM.desc\n",
            "Cô ta có học giỏi không 5 : HUM.desc\n",
            "Ngoại hình cô ấy như thế nào 5 : HUM.desc\n",
            "Anh ta và cô ta quen nhau bao lâu rồi 7 : HUM.ind\n",
            "Sinh viên trường tự nhiên có giỏi không 17 : SELECT\n",
            "Bạn thích uống cafe nào 7 : HUM.ind\n",
            "Hôm nay ngày bao nhiêu 16 : NUM.date\n",
            " Ngày ra đời của  máy đếm tiền 10 : NUM.data\n",
            "viết tắt của trung tâm kiểm soát và phòng ngừa dịch bệnh là gì? 11 : ABBR.abb\n",
            "cm là viết tắt của gì? 12 : ABBR.exp\n",
            "Nguyệt thực là gì? 0 : DESC.def\n",
            "Thuỷ triều là gì? 0 : DESC.def\n",
            "trí tuệ nhân tạo là gì 0 : DESC.def\n",
            "nghịch lý tiền định là gì? 0 : DESC.def\n",
            "hố đen vũ trụ là gì? 0 : DESC.def\n",
            "chuyện gì đã xảy ra với khủng long? 1 : DESC.desc\n",
            "nguồn gốc của động cơ hơi nước? 1 : DESC.desc\n",
            "tại sao chương trình tàu con thoi bị giải tán? 2 : DESC.reason\n",
            "nguyên nhân nội chiến Hoa Kỳ? 2 : DESC.reason\n",
            "Ngô Quyền là ai? 5 : HUM.desc\n",
            "Đội tuyển nào vô địch V-league năm 2019? 16 : NUM.date\n",
            "Công ty nào dẫn đầu về doanh thu sữa hiện nay? 6 : HUM.group\n",
            "Nước súc miệng Listerine được sản xuất bởi công ty nào? 6 : HUM.group\n",
            "Công ty xe hơi được thành lập bởi Elon Musk? 6 : HUM.group\n",
            "Hãng thức ăn nhanh nào nổi tiếng với câu khẩu hiệu \"Vị ngon trên từng ngón tay\"? 13 : ENTY\n",
            "Ai là người phát minh ra máy hơi nước đầu tiên? 7 : HUM.ind\n",
            "Diễn viên chính phim \"Đại gia Gatsby\" là ai? 5 : HUM.desc\n",
            "Người phát hiện ra dây tóc bóng đèn là ai? 7 : HUM.ind\n",
            "đỉnh Everest ở đâu? 14 : LOC\n",
            "thành phố có nhiều hồ nhất cả nước ở đâu? 8 : LOC.city\n",
            "làn sóng Hallyu bắt đầu ở nước nào? 9 : LOC.country\n",
            "nước nào bị ném bom nguyên tử? 9 : LOC.country\n",
            "nguồn gốc của cây cacao từ nước nào? 9 : LOC.country\n",
            "Khải Hoàn Môn ở đâu? 14 : LOC\n",
            "nhiệt độ cơ thể của người bình thường là bao nhiêu? 15 : NUM\n",
            "Trận chiến Waterloo xảy ra khi nào? 16 : NUM.date\n",
            "liên hợp quốc viết tắt là gì 11 : ABBR.abb\n",
            "tổ chức y tế thế giới viết tắt là gì 11 : ABBR.abb\n",
            "tổ chức thương mại thế giới viết tắt là gì 11 : ABBR.abb\n",
            "tên viết tắt của liên đoàn bóng đá châu á 11 : ABBR.abb\n",
            "liên đoàn bóng đá quốc tế viết tắt là gì 11 : ABBR.abb\n",
            "wb là tên viết tắt của tổ chức nào 12 : ABBR.exp\n",
            "un là viết tắt của từ gì 12 : ABBR.exp\n",
            "UNICEF la tên viết tắt của tổ chức nào 12 : ABBR.exp\n",
            "thuật toán kruskal hoạt động như thế nào 1 : DESC.desc\n",
            "con cáo kêu như thế nào 1 : DESC.desc\n",
            "grammy là giải thưởng về lĩnh vực gì 0 : DESC.def\n",
            "trái quất có tên nào khác 9 : LOC.country\n",
            "Michael Jordan là ai 5 : HUM.desc\n",
            "nhà thầu xây dựng landmark 81 là ai 5 : HUM.desc\n",
            "công ty nào sản xuất chip máy tính 6 : HUM.group\n",
            "Ai là người phát minh ra dòng điện một chiều 7 : HUM.ind\n",
            "ai là người phát minh ra điện thoại 7 : HUM.ind\n",
            "trường đại học khoa học tự nhiên nằm ở đâu 14 : LOC\n",
            "vịnh vĩnh hy ở đâu 14 : LOC\n",
            "thành phố nào mang tên bác 8 : LOC.city\n",
            "thành phố sài gòn gia định đổi tên là gì 8 : LOC.city\n",
            "Thành phố lâu đời nhất Việt Nam 8 : LOC.city\n",
            "phở là đồ ăn của quốc gia nào 9 : LOC.country\n",
            "messi sinh ra ở quốc gia nào 9 : LOC.country\n",
            "hoa sen là quốc hoa của nước nào 9 : LOC.country\n",
            "sinh nhật của bác hồ là ngày bao nhiêu 16 : NUM.date\n",
            "ngày thành lập trường khoa học tự nhiên 16 : NUM.date\n",
            "ai là người đứng đầu vingroup 7 : HUM.ind\n",
            "tháp landmark 81 cao bao nhiêu 15 : NUM\n",
            "dặm anh là gì 0 : DESC.def\n",
            "no là viết tắt từ nào 12 : ABBR.exp\n",
            "AAA là gì trong alphabet Agencies 0 : DESC.def\n",
            "i.e là gì 0 : DESC.def\n",
            "adj có phải là phép tính ma trận 17 : SELECT\n",
            "mean là gì 0 : DESC.def\n",
            "neuron thần kinh là gì 0 : DESC.def\n",
            "GK là vị trí nào trong bóng đá 12 : ABBR.exp\n",
            "sách self help là sách như thế nào 1 : DESC.desc\n",
            "wikipedia là thư viện gì 0 : DESC.def\n",
            "ghế đẩu là loại ghế được thiết kế như thế nào 1 : DESC.desc\n",
            "xe winner X 2020 khác các phiên bản tiền nhiệm ở đâu 14 : LOC\n",
            "Mục đích của tiến hóa là gì 6 : HUM.group\n",
            "Mục tiêu để phát triển kinh tế là gì 0 : DESC.def\n",
            "Lý do sự khác biệt giữa các nước với nhau 1 : DESC.desc\n",
            "đá bóng và bơi lội liên quan gì tới nhau 13 : ENTY\n",
            "hình ảnh chúa Nguyễn thời xưa được mô tả như thế nào 1 : DESC.desc\n",
            "tổ chức WHO là gì 6 : HUM.group\n",
            "tổ chức Nhà nước là gì 6 : HUM.group\n",
            "UNESCO là tổ chức nào 6 : HUM.group\n",
            "Ai là ông trùm showbiz Mỹ 7 : HUM.ind\n",
            "Đại tướng Võ Nguyên Giáp có ảnh hưởng gì trong cuộc Cách mạng VN  7 : HUM.ind\n",
            "Jerusalem ở đâu 14 : LOC\n",
            "Thành phố nổi tiếng nhất Thái Lan nằm ở vùng nào 8 : LOC.city\n",
            "Chicago nằm ở đâu 14 : LOC\n",
            "Tokyo là thành phố của Nhật Bản hay Hàn Quốc 8 : LOC.city\n",
            "Quốc gia có tỉ lệ dân số chênh lệch cao nhất thế giới 9 : LOC.country\n",
            "Ấn Độ thuộc châu lục nào 9 : LOC.country\n",
            "Nước nào có nhiều giải Nobels nhất thế giới 9 : LOC.country\n",
            "hằng số plank có giá trị là gì 15 : NUM\n",
            "Ngày thành lập Đảng là ngày mấy 16 : NUM.date\n",
            "Ngày quốc khánh của Việt Nam là ngày mấy 16 : NUM.date\n",
            "Hệ điều hành là gì? 0 : DESC.def\n",
            "Cách chế biến các loại giấm như thế nào? 1 : DESC.desc\n",
            "Tại sao ăn chay người ta không uống sữa? 2 : DESC.reason\n",
            "Vì sao Việt Nam mưa nhiều? 2 : DESC.reason\n",
            "Tại sao bóng đèn điện sáng? 2 : DESC.reason\n",
            "Đâu là môn \"thể thao vua\"? 13 : ENTY\n",
            "Hoa lan thường có màu gì? 13 : ENTY\n",
            "Môn thể thao điện tử phổ biến nhất là gì? 13 : ENTY\n",
            "Bà Huyện Thanh Quan là ai? 5 : HUM.desc\n",
            "Trấn Thành là ai? 5 : HUM.desc\n",
            "Nguyễn Du là ai? 5 : HUM.desc\n",
            "Những ai từng lên mặt trăng? 6 : HUM.group\n",
            "Những ai sáng lập ra Facebook? 6 : HUM.group\n",
            "Ai hiện là Chủ tịch nước Cộng hoà Xã hội Chủ nghĩa Việt Nam? 6 : HUM.group\n",
            "Ai là nam chính của phim Fifty Shades of Grey? 6 : HUM.group\n",
            "Ai được mệnh danh là ông hoàng nhạc Việt? 7 : HUM.ind\n",
            "Ai là người khai sinh ra nước Việt Nam Dân chủ Cộng hoà? 7 : HUM.ind\n",
            "Đại tướng có công lớn nhất trong Chiến dịch Điện Biên Phủ là ai? 5 : HUM.desc\n",
            "Magma thường có ở đâu? 14 : LOC\n",
            "Phố đi bộ Bùi Viện nằm ở đâu? 8 : LOC.city\n",
            "Đâu là thành phố lớn nhất của nước Úc? 8 : LOC.city\n",
            "Thành phố lớn nhất của miền Trung nước ta là gì? 8 : LOC.city\n",
            "Thủ đô nước ta là thành phố nào? 8 : LOC.city\n",
            "Đâu là thành phố ngàn hoa? 8 : LOC.city\n",
            "Nước nào đông dân nhất thế giới? 9 : LOC.country\n",
            "Nước nào rộng lớn nhất thế giới? 9 : LOC.country\n",
            "Trà sữa có nguồn gốc từ nước nào? 9 : LOC.country\n",
            "Việt Nam có bao nhiêu thành phố trực thuộc trung ương? 15 : NUM\n",
            "Ngày thành lập Đoàn là ngày mấy? 16 : NUM.date\n",
            "Giáng Sinh vào ngày nào? 16 : NUM.date\n",
            "Hoa Tulip có độc hay không? 17 : SELECT\n",
            "Nước biển có mặn không? 17 : SELECT\n",
            "Sao Mộc là hành tinh lớn nhất trong hệ Mặt Trời phải không? 17 : SELECT\n",
            "Trà sữa có hại hay không? 17 : SELECT\n",
            "Hành tinh gần Trái Đất hơn là sao Hoả hay sao Thuỷ? 17 : SELECT\n",
            "Viết tắt của từ \"trung ương\" là gì? 11 : ABBR.abb\n",
            "Hiệp hội các cơ quan quản lý bảo hiểm quốc gia có tên viết tắt là gì? 11 : ABBR.abb\n",
            "Trong tiếng Anh 3 : ENTY.language\n",
            "Từ HTML là viết tắt của cụm từ gì? 12 : ABBR.exp\n",
            "Bệnh Pakinson là gì? 0 : DESC.def\n",
            "Mùa đông ở Hà Nội lạnh như thế nào? 1 : DESC.desc\n",
            "Làm thế nào người ta chế biến được món đuông dừa? 1 : DESC.desc\n",
            "Giải đấu đã diễn ra căng thẳng ra sao? 7 : HUM.ind\n",
            "Thế nào là một nhà thông thái? 0 : DESC.def\n",
            "Tại sao nước biển có màu xanh? 2 : DESC.reason\n",
            "Vì sao không nên tắm lúc đêm khuya? 2 : DESC.reason\n",
            "William Shakespear là ai? 5 : HUM.desc\n",
            "Nhà văn Nguyễn Ngọc Tư là ai? 5 : HUM.desc\n",
            "Bài hát \"Day by day\" là của nhóm nhạc nữ Hàn Quốc nào? 6 : HUM.group\n",
            "Bạn có biết gì về tập đoàn Samsung không? 6 : HUM.group\n",
            "Ai là tác giả của tác phẩm \"Cánh đồng bất tận\"? 7 : HUM.ind\n",
            "Ai là người đã phát minh ra đèn điện? 7 : HUM.ind\n",
            "Nghệ sĩ có nhiều fan hâm mộ nhất Việt Nam hiện nay là ai? 7 : HUM.ind\n",
            "Tỉnh Đồng Nai có thành phố nào? 8 : LOC.city\n",
            "Cậu có biết Thủ phủ rượu vang là biệt danh của thành phố nào không? 8 : LOC.city\n",
            "Đảo quốc sư tử là biệt danh của đảo quốc nào trên thế giới? 9 : LOC.country\n",
            "Chiến tranh Nga-Nhật xảy ra vào thời gian nào? 16 : NUM.date\n",
            "Có hay không việc Atlantis thực sự tồn tại? 17 : SELECT\n",
            "Sau 20 năm nữa Việt Nam có thể được xếp vào hàng ngũ các quốc gia phát triển hay không? 17 : SELECT\n",
            "Việc phát hiện ra UFO ở khu vực 51 là có hay không? 17 : SELECT\n",
            "Việc chạy đua vũ trang của một quốc gia là nên hay không nên? 17 : SELECT\n",
            "Loài chim nào được in trên quốc huy của Hợp chúng quốc Hoa Kỳ? 9 : LOC.country\n",
            "Con gì thường được gắn với truyền thuyết về ma cà rồng? 18 : ENTY.animal\n",
            "Vì để chạy trốn thần Apollo 2 : DESC.reason\n",
            "Tôn giáo nào được xem là quốc giáo của nước ta thời nhà Lý? 20 : ENTY.religion\n",
            "Viết tắt của học hàm giáo sư là gì? 11 : ABBR.abb\n",
            "Kí hiệu của thuỷ ngân là gì? 11 : ABBR.abb\n",
            "TP là viết tắt của gì? 12 : ABBR.exp\n",
            "Lịch sử là gì? 0 : DESC.def\n",
            "Thế nào là chất hoạt hoá enzym? 0 : DESC.def\n",
            "Thế nào là liên kết hoá học? 0 : DESC.def\n",
            "Nguồn gốc của con người từ đâu? 1 : DESC.desc\n",
            "Mực viết được làm từ gì? 13 : ENTY\n",
            "Tác hại của tia UV là gì? 0 : DESC.def\n",
            "Bộ phận nào cho không khí đi vào cơ thể? 13 : ENTY\n",
            "Ngôn ngữ nào có số người nói nhiều nhất? 13 : ENTY\n",
            "Lê Duẩn là ai? 5 : HUM.desc\n",
            "Duy Tân hội có mục tiêu gì? 6 : HUM.group\n",
            "Tập đoàn Google là tập đoàn gì? 6 : HUM.group\n",
            "Liên minh châu Âu có mục tiêu gì? 6 : HUM.group\n",
            "Nhà hoạt động cách mạng nào có bí danh anh Tô? 6 : HUM.group\n",
            "Sông nào có diện tích lớn nhất thế giới? 9 : LOC.country\n",
            "Việt Nam thuộc châu nào? 9 : LOC.country\n",
            "Thủ đô của Pháp là thành phố nào? 8 : LOC.city\n",
            "Thành phố nào đặt theo tên của Chủ tịch nước đầu tiên của Việt Nam Dân chủ Cộng hoà? 8 : LOC.city\n",
            "Đường biên giới phía Bắc Việt Nam giáp với nước nào? 9 : LOC.country\n",
            "Thomas Edison là người nước nào? 9 : LOC.country\n",
            "Thế chiến thứ nhất kéo dài trong bao lâu? 15 : NUM\n",
            "Sắt có mấy hoá trị? 15 : NUM\n",
            "Khoảng cách từ Hà Nội đến Hồ Chí Minh là bao xa? 15 : NUM\n",
            "Bác Hồ ra đi tìm đường cứu nước vào ngày nào? 16 : NUM.date\n",
            "Vụ ném bom nguyên tử xuống Hiroshima và Nagasaki vào ngày nào? 16 : NUM.date\n",
            "Việt Nam gia nhập WTO vào ngày nào? 16 : NUM.date\n",
            "Việt Nam có thuộc ASEAN không? 17 : SELECT\n",
            "Máy chơi trò chơi điện tử tại gia Super Nintendo Entertainment System thường được viết tắt như thế nào? 11 : ABBR.abb\n",
            "Nhà Xuất Bản thường được rút gọn như thế nào? 11 : ABBR.abb\n",
            "LHQ viết tắt cho cái gì? 11 : ABBR.abb\n",
            "Tình trạng bảo tồn là gì? 0 : DESC.def\n",
            "Họ Trâu bò là gì? 0 : DESC.def\n",
            "Các màu trong Quốc kỳ Saint Vincent và Grenadines tượng trưng cho gì? 22 : ENT\n",
            "Lá cây nào xuất hiện trên quốc kì Canada? 9 : LOC.country\n",
            "Sao vàng trên quốc kì Việt Nam mang ý nghĩa gì? 1 : DESC.desc\n",
            "Làm sao mà kim loại dẫn điện được? 2 : DESC.reason\n",
            "Tại sao các tờ tiền có kích thước khác nhau? 2 : DESC.reason\n",
            "Rau câu được làm từ gì? 13 : ENTY\n",
            "Kể tên chuỗi siêu thị lớn nhất Việt Nam 14 : LOC\n",
            "Chủ tịch nước Việt Nam là ai? 7 : HUM.ind\n",
            "Ai là tác giả của câu chuyện \"Bạch tuyết và bảy chú lùn\"? 7 : HUM.ind\n",
            "Ai là chủ tịch Quốc hội Việt Nam? 7 : HUM.ind\n",
            "Kể tên một ca sĩ người Việt 7 : HUM.ind\n",
            "Ai sở hữu tập đoàn Vingroup? 6 : HUM.group\n",
            "Thánh địa Hồi giáo nằm ở đâu? 14 : LOC\n",
            "Cực bắc của Việt Nam nằm ở đâu? 14 : LOC\n",
            "Dinh Độc Lập nằm ở đâu? 14 : LOC\n",
            "Thủ đô của Hoa Kì là thành phố nào? 8 : LOC.city\n",
            "Thành phố nào đông dân nhất thế giới? 8 : LOC.city\n",
            "Cầu Cổng Vàng nằm ở thành phố nào? 8 : LOC.city\n",
            "Nước nào có quốc kì là hình mặt trời mọc? 9 : LOC.country\n",
            "Nhà soạn nhạc Beethoven mất vào năm nào? 16 : NUM.date\n",
            "Việt Nam thông qua Hiến pháp đầu tiên vào ngày nào? 16 : NUM.date\n",
            "Bóng đèn được phát minh vào năm nào? 16 : NUM.date\n",
            "Tết Nguyên Đán năm 2022 rơi vào ngày nào? 16 : NUM.date\n",
            "Trái đất có bao giờ đâm vào mặt trời không? 15 : NUM\n",
            "Con người có thể không ngủ không? 17 : SELECT\n",
            "Người da đỏ có sống ở Việt Nam không? 17 : SELECT\n",
            "Ngân hàng \"Sài Gòn Thường Tín\" có tên viết tắt là gì? 11 : ABBR.abb\n",
            "\"Tổ chức Thương mại Thế giới\" viết tắt là gì? 11 : ABBR.abb\n",
            "Đài truyền hình Việt Nam gọi tắt là gì? 11 : ABBR.abb\n",
            "BTW là viết tắt của từ gì trong tiếng anh? 12 : ABBR.exp\n",
            "Tên đầy đủ của ngân hàng BIDV là gì? 12 : ABBR.exp\n",
            "Đường trung tuyến là gì? 0 : DESC.def\n",
            "Người theo chủ nghĩa duy vật tin vào điều gì? 0 : DESC.def\n",
            "Sự khác nhau giữa tự dưỡng và dị dưỡng là gì? 1 : DESC.desc\n",
            "Tại sao không nên uống sữa khi đói? 2 : DESC.reason\n",
            "Cuốn sách nào bán chạy nhất thế giới? 13 : ENTY\n",
            "Quả táo khi chín có màu gì? 13 : ENTY\n",
            "Nguyên tố cấu tạo nên phân tử nước là gì? 0 : DESC.def\n",
            "Jack Ma là ai? 5 : HUM.desc\n",
            "Đội bóng nào vô địch cúp c1 nhiều nhất? 6 : HUM.group\n",
            "Ai là người phát minh ra bóng đèn? 7 : HUM.ind\n",
            "Người phụ nữ đầu tiên nhận giải nobel là ai? 7 : HUM.ind\n",
            "Nơi nào có nhiệt độ cao nhất trên trái đất? 14 : LOC\n",
            "Thành phố cảng lớn nhất Việt nam là gì? 8 : LOC.city\n",
            "Tượng Nữ thần tự do nằm ở thành phố nào? 8 : LOC.city\n",
            "Đại học Harvard ở thành phố nào? 8 : LOC.city\n",
            "Dịch bệnh Corona bắt nguồn đầu tiên tại nơi nào? 14 : LOC\n",
            "Đất nước nào được mệnh danh là xứ sở hoa anh đào? 9 : LOC.country\n",
            "Có bao nhiêu loài hoa lan trên thế giới? 15 : NUM\n",
            "Có bao nhiêu loại hình công ty? 15 : NUM\n",
            "Cây đa là rễ cọc hay rễ chùm? 17 : SELECT\n",
            "Tổng đốc Hoàng Diệu đã chỉ huy cuộc chiến đấu chống sự xâm lược Hà Nội lần thứ mấy của thực dân Pháp? 15 : NUM\n",
            "Con vật nào chạy nhanh nhất trong giới động vật? 13 : ENTY\n",
            "Con nào lặn sâu nhất trong giới động vật? 13 : ENTY\n",
            "Con nào có cổ dài nhất? 13 : ENTY\n",
            "Đồi thuộc dạng địa hình núi già hay trẻ?  17 : SELECT\n",
            "Sao hỏa có mưa hay không? 17 : SELECT\n",
            "Quê cậu mùa đông có tuyết rơi hay không? 17 : SELECT\n",
            "Nước nào giàu nhất thế giới? 9 : LOC.country\n",
            "Thành phố nào có bãi biển đẹp nhất Việt Nam? 8 : LOC.city\n",
            "Vì sao ngày nào mặt trời cũng mọc? 16 : NUM.date\n",
            "Tại sao con rết lại sợ con gà? 2 : DESC.reason\n",
            "Tam giác vuông là gì? 0 : DESC.def\n",
            "Tư duy phản biện là gì? 0 : DESC.def\n",
            "Tổ chức thương mại thế giới tên gọi là gì? 6 : HUM.group\n",
            "Cơ quan hàng không vũ trụ Hoa Kì tên gọi là gì? 0 : DESC.def\n",
            "Bãi biển nào đẹp nhất thế giới nằm ở đâu? 14 : LOC\n",
            "Ngọn núi cao nhất Nhật Bản là gì? 0 : DESC.def\n",
            "Bạn nghĩ như thế nào việc ở kí túc xá? 7 : HUM.ind\n",
            "Quan điểm của bạn về việc học tiếng Trung? 7 : HUM.ind\n",
            "Tính cách của cô ấy như nào? 5 : HUM.desc\n",
            "HIV là viết tắt của hội chứng gì? 12 : ABBR.exp\n",
            "UN là viết tắt của cái gì? 12 : ABBR.exp\n",
            "Tên viết tắt của tổ chức phát triển luật quốc tế là gì? 11 : ABBR.abb\n",
            "Tên viết tắt của tổ chức mậu dịch quốc tế là gì? 11 : ABBR.abb\n",
            "Tên viết tắt của tổ chức giáo dục khoa học và văn hóa là gì? 11 : ABBR.abb\n",
            "Nasa là tên viết tắt của cơ quan nào của mỹ? 12 : ABBR.exp\n",
            "Tên viết tắt của liên đoàn bóng đá đông nam á? 11 : ABBR.abb\n",
            "Ascii là viết tắt của chữ gì? 12 : ABBR.exp\n",
            "Aids là gì? 0 : DESC.def\n",
            "Ascii là gì? 0 : DESC.def\n",
            "Công nghiệp hóa là gì? 0 : DESC.def\n",
            "Sóng hấp dẫn là gì? 0 : DESC.def\n",
            "Album đầu tay của adele tên gì? 12 : ABBR.exp\n",
            "Tên chính thức của na uy là gì? 12 : ABBR.exp\n",
            "Tây thi là ai? 5 : HUM.desc\n",
            "Ai phát minh ra cột thiên lôi? 7 : HUM.ind\n",
            "Ai sáng tạo ra bảng chữ cái dành cho người mù? 7 : HUM.ind\n",
            "Tổng thống hoa kỳ nào được bầu hơn hai nhiệm kỳ? 13 : ENTY\n",
            "Chùm ngây có xuất xứ từ đâu? 14 : LOC\n",
            "Quần đảo cát bà nằm ở đâu? 14 : LOC\n",
            "Sơn la nằm ở đâu? 14 : LOC\n",
            "Cầu Long Biên ở đâu? 14 : LOC\n",
            "Chùa một cột ở đâu? 14 : LOC\n",
            "Thầy Nguyễn Đình Chiểu quê ở đâu? 14 : LOC\n",
            "Black pink là nhóm nhạc của nước nào? 9 : LOC.country\n",
            "Nền văn minh aztec ra đời ở nước nào? 9 : LOC.country\n",
            "Cacbon có bao nhiêu hình dạng? 15 : NUM\n",
            "John Cena có bao nhiêu lần giữ đai WWE Championship? 15 : NUM\n",
            "Đế quốc mông cổ tồn tại khoảng thời gian nào? 16 : NUM.date\n",
            "Hồ ngọc hà giành giải nữ ca sĩ được yêu thích nhất vào năm nào? 16 : NUM.date\n",
            "Sinh nhật của park bo gum là ngày nào? 16 : NUM.date\n",
            "Thế vận hội hiện đại được tổ chức lần đầu tiên vào thời gian nào? 16 : NUM.date\n",
            "Viết tắt của tổ chức kinh tế thế giới là gì? 11 : ABBR.abb\n",
            "Từ viết tắt cho cơ quan tình báo quốc gia Việt Nam là gì? 11 : ABBR.abb\n",
            "RAM viết tắt của từ gì? 12 : ABBR.exp\n",
            "S.O.S là viết tắt cho điều gì? 12 : ABBR.exp\n",
            "CNN là cách viết ngắn gọn của điều gì? 12 : ABBR.exp\n",
            "Bảng Anh là gì? 0 : DESC.def\n",
            "Đông trùng hạ thảo là gì? 0 : DESC.def\n",
            "Bánh donut là bánh gì? 0 : DESC.def\n",
            "Tôn giáo chính ở Bangladesh là gì? 0 : DESC.def\n",
            "ppm là đơn vị đo gì? 12 : ABBR.exp\n",
            "Bạn có thể nói với tôi những gì về Taylor Swift? 5 : HUM.desc\n",
            "Steve Job là ai? 5 : HUM.desc\n",
            "Nhóm người nào được mang tới Mỹ Châu và bán làm nô lệ? 6 : HUM.group\n",
            "Hãng lốp xe ô tô Bridgestone là của nước nào? 9 : LOC.country\n",
            "Đất nước nào hạnh phúc nhất thế giới trong đại dịch Covid-19? 9 : LOC.country\n",
            "Quốc gia nào 'miễn nhiễm Covid', từ chối vaccine? 9 : LOC.country\n",
            "Dân số của Bangladesh đứng thứ mấy trên thế giới? 15 : NUM\n",
            "Phở miền Bắc hay miền Nam ngon hơn? 17 : SELECT\n",
            "Viết tắt của Việt Nam là gì? 11 : ABBR.abb\n",
            "Viết tắt của cựu chiến binh? 11 : ABBR.abb\n",
            "Hoa hải đường là hoa gì? 13 : ENTY\n",
            "Thế nào gọi là mọt sách? 0 : DESC.def\n",
            "Dùng máy học để làm gì? 2 : DESC.reason\n",
            "Dùng máy tính để làm gì? 2 : DESC.reason\n",
            "Đá từ đâu mà ra? 14 : LOC\n",
            "Chuyện gì xảy ra vào năm 1999? 16 : NUM.date\n",
            "Tại sao nước lại trong suất? 2 : DESC.reason\n",
            "Tiếng kêu quạc quạc là của con gì? 12 : ABBR.exp\n",
            "Con gì đang tuyệt chủng? 22 : ENT\n",
            "Ai là người phát minh ra máy tính? 7 : HUM.ind\n",
            "Vị trí nào đẹp để xây nhà? 14 : LOC\n",
            "Nơi nào lạnh nhất? 14 : LOC\n",
            "Thành phố nào có công nghệ phát triển nhất? 8 : LOC.city\n",
            "Nước nào trong Châu Á phát triển nhất? 9 : LOC.country\n",
            "Nước nào có nhiều người nước ngoài nhất? 9 : LOC.country\n",
            "Quốc gia nào giàu nhất? 9 : LOC.country\n",
            "Có bao nhiêu chữ cái trên bàn phím máy tính? 15 : NUM\n",
            "Mất bao nhiêu năm để phân huy bọc ni lon? 15 : NUM\n",
            "Mấy năm thì có một năm nhuận? 16 : NUM.date\n",
            "Có bao nhiêu người trên thế giới? 15 : NUM\n",
            "Ngày 16/9/2020 chuyển qua âm lịch là ngày mấy? 16 : NUM.date\n",
            "Bác Hồ mất năm mấy? 16 : NUM.date\n",
            "Mặt trời có chiếu tới sao diêm vương không? 17 : SELECT\n",
            "Có nên tắm khi nhiệt độ là 20 độ không? 17 : SELECT\n",
            "Bỏ muối vào bánh ngọt là cách làm đúng hay sai? 17 : SELECT\n",
            "Dùng máy tính nhiều là tốt hay xấu? 17 : SELECT\n",
            "Điện xoay chiều viết tắt là gì? 11 : ABBR.abb\n",
            "CMT8 là viết tắt của từ gì? 12 : ABBR.exp\n",
            "NG trên xe tải là viết tắt của từ gì? 12 : ABBR.exp\n",
            "Ngày lễ tình nhân trắng là gì? 0 : DESC.def\n",
            "Điều gì đã xảy ra Trong chiến tranh biên giới Việt-Trung? 2 : DESC.reason\n",
            "Thủ tục để làm thẻ ngân hàng như thế nào? 1 : DESC.desc\n",
            "Làm sao để mua vé máy bay qua mạng? 2 : DESC.reason\n",
            "Phong Nha - Kẻ Bàng được hình thành như thế nào? 1 : DESC.desc\n",
            "Tại sao người Ai Cập cạo lông mày? 2 : DESC.reason\n",
            "Vì sao người Ai cập cổ đại lại tôn sùng loài mèo? 2 : DESC.reason\n",
            "Tại sao đóng bảo hiểm y tế là bắt buộc? 2 : DESC.reason\n",
            "Vịnh Hạ Long được xem là một trong bảy kỳ quan thế giới là do đâu? 14 : LOC\n",
            "Hút thuốc lá ảnh hưởng tới bộ phần nào trên cơ thể con người? 13 : ENTY\n",
            "Món ăn nổi tiếng nhất nước Việt Nam là gì? 9 : LOC.country\n",
            "Ông Trịnh Xuân Thanh là ai? 5 : HUM.desc\n",
            "Stephen Hawking là người nào? 5 : HUM.desc\n",
            "Ai được gọi là “Nhà lãnh tụ vĩ đại” của Việt Nam? 7 : HUM.ind\n",
            "Người sáng tạo ra Đạo Phật là ai? 7 : HUM.ind\n",
            "Ai là chủ nhân của bức hoạ Mona Lisa 7 : HUM.ind\n",
            "Nữ hoàng nội y là ai? 5 : HUM.desc\n",
            "Thác Bản Giốc toạ lạc tại vị trí nào Việt Nam? 14 : LOC\n",
            "Ở đâu có bán người yêu? 14 : LOC\n",
            "Kênh đào suez nằm ở thành phố nào? 8 : LOC.city\n",
            "Số lượng quốc gia đã được công nhận trên thế giới? 9 : LOC.country\n",
            "Trung bình một đời người gặp gỡ bao nhiêu con người? 15 : NUM\n",
            "Ngày Bác Hồ tuyên ngôn độc lập là ngày bao nhiêu? 16 : NUM.date\n",
            "Ngày cá tháng tư là ngày nào? 16 : NUM.date\n",
            "Khoa CNTT trường DHKHTN đào tạo 4 hay 5 năm? 17 : SELECT\n",
            "Liệu rằng cố gắng có đủ để thành công không? 17 : SELECT\n",
            "Ngủ trễ có hại cho sức khoẻ không? 17 : SELECT\n",
            "Tên viết tắt của Đông Nam Á ? 11 : ABBR.abb\n",
            "Tên viết tắt của Hội Đồng Bảo An Liên Hợp Quốc là gì ? 11 : ABBR.abb\n",
            "Tên viết tắt của liên đoàn cầu lông là gì ? 11 : ABBR.abb\n",
            "HTML là viết tắt của ? 12 : ABBR.exp\n",
            "Khối cầu dyson là gì ? 0 : DESC.def\n",
            "Lá cây đã làm gì với CO2 hấp thu được ? 1 : DESC.desc\n",
            "Bụi bặm gây ảnh hưởng gì đến phổi của chúng ta ? 7 : HUM.ind\n",
            "Cấu hình tối thiểu để chơi Liên Minh Huyền Thoại ? 1 : DESC.desc\n",
            "Tại sao rượu lại có thể cháy ? 2 : DESC.reason\n",
            "Loại thực phẩm gì được tiêu thụ nhiều nhất ở Viện Nam ? 13 : ENTY\n",
            "Cây nào cao nhanh nhất trên thế giới ? 13 : ENTY\n",
            "Ai là Võ Thị Sáu ? 5 : HUM.desc\n",
            "Nguyễn Du là ai ? 5 : HUM.desc\n",
            "Ai là Abraham Lincoln ? 5 : HUM.desc\n",
            "Ai là Doctor Strange trong MCU ? 7 : HUM.ind\n",
            "Ai là Võ Nguyên Giáp ? 5 : HUM.desc\n",
            "Cơ quan chống khủng bố Hoa Kỳ ? 6 : HUM.group\n",
            "Người nào nắm ký lục chạy nhanh nhất thế giới ? 13 : ENTY\n",
            "Người phát hiện châu mỹ đầu tiên là ai ? 7 : HUM.ind\n",
            "Vị trí xây dựng đập Hoà Bình ? 14 : LOC\n",
            "Thành Phố cao nhất thế giới là thành phố nào ? 8 : LOC.city\n",
            "Đất nước được coi là an toàn bậc nhất ? 9 : LOC.country\n",
            "Theo pháp luật Việt Nam, một người có thể có bị phạt nhiều nhất bao nhiêu năm tù về tội giết người ? 15 : NUM\n",
            "Ngày sinh Bác Hồ ? 16 : NUM.date\n",
            "Ngày phóng thành công tiên lửa đầu tiên trên thế giới ? 16 : NUM.date\n",
            "Toà nhà Landmark 81 có thể chịu được động đất không ? 17 : SELECT\n",
            "Trong Tiếng Anh “MR”,“MRS” là dạng viết tắt của từ đầy đủ gì? 12 : ABBR.exp\n",
            "“HDD” - tên đầy đủ của nó? 12 : ABBR.exp\n",
            "Thuật ngữ đầy đủ của “ICMP”? 12 : ABBR.exp\n",
            "Tên đầy đủ của mạng “LAN”? 12 : ABBR.exp\n",
            "Định nghĩa về đại số tuyến tính? 0 : DESC.def\n",
            "Khái niệm về hệ thống thông tin? 0 : DESC.def\n",
            "Thiết kế kỉ thuật điện thoại gaming RED MAGIC 6? 1 : DESC.desc\n",
            "Mô tả thiết kế của máy bay phản lực F-35 Lightning II? 1 : DESC.desc\n",
            "Cách thức quản lí thư viện của một người quản lí giỏi? 2 : DESC.reason\n",
            "Nguyên lí hoạt động máy nước nóng lạnh? 2 : DESC.reason\n",
            "Cách thức để train một mô hình máy học? 1 : DESC.desc\n",
            "Mắt của Người Châu Âu có gì khác biệt so với Châu Á? 9 : LOC.country\n",
            "Băng đảng xã hội đen nào khét tiếng nước Ý? 6 : HUM.group\n",
            "Tổ chức lưu manh học đường ở Thái Lan hoạt động ra sao? 6 : HUM.group\n",
            "Băng đảng buôn người xuyên quốc gia nào lớn Đông Nam Á? 9 : LOC.country\n",
            "Tướng quân nào tài giỏi nhât trong sự nghiệp mở mang bờ cõi về phía Nam của nước ta? 7 : HUM.ind\n",
            "Vị trí nhà tù nào nguy hiểm nhất thế giới? 14 : LOC\n",
            "Thiên đường ẩm thực lớn nhất thê giới thuộc về thành phố nào? 8 : LOC.city\n",
            "Nhật Bản có vùng nông thôn hay không? 17 : SELECT\n",
            "Quốc gia nào có nhiều sông ngòi nhất thế giới? 9 : LOC.country\n",
            "Số tàu ngầm của quân đội Việt Nam năm 2021? 15 : NUM\n",
            "Bình Dương có bao nhiêu khu công nghiệp? 15 : NUM\n",
            "Dân số của Việt Nam năm 2021? 15 : NUM\n",
            "Hà Nội có bao nhiêu tòa nhà cao tầng? 15 : NUM\n",
            "Ngày Độc Lập Tự Do thông nhất đất nước Việt Nam? 16 : NUM.date\n",
            "Ngày sinh nhật của Bác Hồ kính yêu? 16 : NUM.date\n",
            "Tỉnh Bình Dương có 3 thành phố vào ngày mấy? 8 : LOC.city\n",
            "Ngày thành lập trường Đại Học Khoa Học Tự Nhiên? 16 : NUM.date\n",
            "Chiến Thắng Điện Biên Phủ trên không lừng lẫy năm châu vào ngày mấy? 16 : NUM.date\n",
            "Ca mắc Covid-19 đầu tiên trên thế giới vào ngày nào? 16 : NUM.date\n"
          ],
          "name": "stdout"
        }
      ]
    },
    {
      "cell_type": "markdown",
      "metadata": {
        "id": "fqUAvzCc9zjJ"
      },
      "source": [
        "# Evaluation"
      ]
    },
    {
      "cell_type": "code",
      "metadata": {
        "colab": {
          "base_uri": "https://localhost:8080/"
        },
        "id": "F8wMzJZ09q8Z",
        "outputId": "b73e0d13-b488-4189-8e98-f3a9613fe247"
      },
      "source": [
        "# các loại nhãn trong tập test\n",
        "set_label_test = Counter(test['labels']).keys()\n",
        "# labels to id\n",
        "label2id_test = {x: i for i, x in enumerate(set_label_test)}\n",
        "# chuyển nhãn từ chữ thành số dựa vào id \n",
        "test_target = [label2id_test[x] for x in test['labels']]\n",
        "print(test_target)\n",
        "print(len(test_target))"
      ],
      "execution_count": 75,
      "outputs": [
        {
          "output_type": "stream",
          "text": [
            "[0, 0, 0, 1, 1, 1, 1, 2, 2, 3, 4, 5, 5, 5, 6, 6, 7, 8, 8, 9, 10, 0, 0, 0, 0, 0, 1, 1, 2, 2, 5, 6, 6, 6, 6, 6, 7, 7, 7, 11, 12, 13, 13, 13, 13, 14, 14, 9, 9, 9, 9, 9, 10, 10, 10, 1, 15, 15, 15, 5, 6, 6, 7, 7, 11, 11, 12, 12, 12, 13, 13, 13, 16, 16, 17, 17, 17, 9, 9, 9, 10, 10, 0, 0, 0, 0, 1, 1, 2, 2, 2, 15, 5, 6, 6, 6, 7, 7, 11, 11, 12, 12, 13, 13, 13, 14, 16, 16, 0, 1, 2, 2, 2, 15, 15, 15, 5, 5, 5, 6, 6, 7, 7, 7, 7, 7, 11, 11, 12, 12, 12, 12, 13, 13, 13, 14, 16, 16, 17, 17, 17, 17, 17, 9, 9, 10, 10, 0, 1, 1, 1, 1, 2, 2, 5, 5, 6, 6, 7, 7, 7, 12, 12, 13, 16, 17, 17, 17, 17, 18, 18, 19, 20, 9, 9, 10, 0, 0, 0, 1, 1, 1, 15, 15, 5, 6, 6, 6, 7, 11, 11, 12, 12, 13, 13, 14, 14, 14, 16, 16, 16, 17, 9, 9, 10, 0, 0, 1, 1, 1, 2, 2, 15, 6, 7, 7, 7, 7, 7, 11, 11, 11, 12, 12, 12, 13, 14, 16, 16, 16, 17, 17, 17, 9, 9, 9, 9, 10, 0, 1, 1, 2, 15, 15, 15, 5, 6, 7, 7, 11, 12, 12, 12, 13, 13, 14, 14, 17, 14, 15, 15, 15, 21, 21, 21, 13, 12, 2, 2, 0, 0, 6, 6, 11, 11, 7, 7, 5, 10, 10, 9, 9, 9, 9, 9, 10, 0, 0, 0, 0, 15, 15, 5, 7, 7, 7, 11, 11, 11, 12, 12, 12, 13, 13, 14, 14, 16, 16, 16, 16, 9, 9, 10, 10, 10, 0, 0, 0, 15, 15, 5, 5, 6, 13, 13, 13, 14, 17, 9, 9, 0, 0, 1, 1, 1, 1, 2, 22, 22, 7, 11, 11, 12, 13, 13, 13, 14, 14, 14, 14, 16, 16, 17, 17, 17, 17, 9, 10, 10, 0, 1, 1, 1, 1, 2, 2, 2, 2, 15, 15, 5, 5, 7, 7, 7, 7, 11, 11, 12, 14, 14, 16, 16, 17, 17, 17, 9, 9, 9, 10, 0, 1, 1, 1, 2, 15, 15, 5, 5, 5, 5, 5, 6, 7, 7, 11, 12, 13, 14, 16, 16, 17, 9, 9, 10, 10, 0, 0, 1, 1, 2, 2, 2, 5, 6, 6, 6, 7, 11, 12, 13, 13, 14, 14, 14, 14, 16, 16, 16, 16, 16, 16]\n",
            "442\n"
          ],
          "name": "stdout"
        }
      ]
    },
    {
      "cell_type": "code",
      "metadata": {
        "colab": {
          "base_uri": "https://localhost:8080/"
        },
        "id": "qMPNre1Y-_eJ",
        "outputId": "61415397-9606-4878-a375-ae6f0fa84596"
      },
      "source": [
        "X_new_counts = count_vect.transform(test['sentences'])\n",
        "X_new = X_new_counts\n",
        "# X_new = tf_transformer.transform(X_new_counts)\n",
        "predicted = clf.predict(X_new)\n",
        "print(len(predicted))\n",
        "print(\"predicted\")\n",
        "print(predicted)\n",
        "print(\"Gold Label\")\n",
        "print(test_target)"
      ],
      "execution_count": 79,
      "outputs": [
        {
          "output_type": "stream",
          "text": [
            "442\n",
            "predicted\n",
            "[ 0  0  0  1  1  1  1  2  2 13 15  5  5  5  7 17  7 16 10 11 12  0  0  0\n",
            "  0  0  1  1  2  2  5 16  6  6  6 13  7  5  7 14  8  9  9  9 14 15 16 11\n",
            " 11 11 11 11 12 12 12  1  1  0  9  5  5  6  7  7 14 14  8  8  8  9  9  9\n",
            " 16 16  7 15  0 12  0  0 17  0  0 12  1  0  1 14  6  0  1 13  1  6  6  6\n",
            "  7  7 14  8 14  8  9  9  9 15 16 16  0  1  2  2  2 13 13 13  5  5  5  6\n",
            "  6  6  6  7  7  5 14  8  8  8  8  8  9  9  9 15 16 16 17 17 17 17 17 11\n",
            " 11  3 12  0  1  1  7  0  2  2  5  5  6  6  7  7  7  8  8  9 16 17 17 17\n",
            " 17  9 18  2 20 11 11 12  0  0  0  1 13  0 13 13  5  6  6  6  6  9  9  8\n",
            "  8  9  9 15 15 15 16 16 16 17 11 11 11  0  0 22  9  1  2  2 13 14  7  7\n",
            "  7  7  6 14 14 14  8  8  8  9 16 16 16 16 15 17 17 11 11 11 12 12  0  0\n",
            "  1  2 13 13  0  5  6  7  7 14  8  8  8 14  9 15 15 17 15 13 13 13 17 17\n",
            " 17  9  8 16  2  0  0  6  0 14  0  7  7  5 12 12 11 11 11 12 11 12  0  0\n",
            "  0  0 12 12  5  7  7 13 14 14 14 14 14 14  9  9 15 15 16 16 16 16 11 11\n",
            " 12 12 12  0  0  0  0 12  5  5  6  9  9  9 15 17 11 11 13  0  2  2 14 16\n",
            "  2 12 22  7 14 14  8  9  9  9 15 15 16 15 16 16 17 17 17 17 11 12 12  0\n",
            "  2  1  2  1  2  2  2 14 13  9  5  5  7  7  7  5 14 14  8  9 15 16 16 17\n",
            " 17 17 11 11 11 12  0  1  7  1  2 13 13  5  5  5  7  5  6 13  7 14  8  9\n",
            " 15 16 16 17 12 12 12 12  0  0  1  1  2  2  1  9  6  6  9  7 14  8 17  9\n",
            " 15 15 15 15 16 16  8 16 16 16]\n",
            "Gold Label\n",
            "[0, 0, 0, 1, 1, 1, 1, 2, 2, 3, 4, 5, 5, 5, 6, 6, 7, 8, 8, 9, 10, 0, 0, 0, 0, 0, 1, 1, 2, 2, 5, 6, 6, 6, 6, 6, 7, 7, 7, 11, 12, 13, 13, 13, 13, 14, 14, 9, 9, 9, 9, 9, 10, 10, 10, 1, 15, 15, 15, 5, 6, 6, 7, 7, 11, 11, 12, 12, 12, 13, 13, 13, 16, 16, 17, 17, 17, 9, 9, 9, 10, 10, 0, 0, 0, 0, 1, 1, 2, 2, 2, 15, 5, 6, 6, 6, 7, 7, 11, 11, 12, 12, 13, 13, 13, 14, 16, 16, 0, 1, 2, 2, 2, 15, 15, 15, 5, 5, 5, 6, 6, 7, 7, 7, 7, 7, 11, 11, 12, 12, 12, 12, 13, 13, 13, 14, 16, 16, 17, 17, 17, 17, 17, 9, 9, 10, 10, 0, 1, 1, 1, 1, 2, 2, 5, 5, 6, 6, 7, 7, 7, 12, 12, 13, 16, 17, 17, 17, 17, 18, 18, 19, 20, 9, 9, 10, 0, 0, 0, 1, 1, 1, 15, 15, 5, 6, 6, 6, 7, 11, 11, 12, 12, 13, 13, 14, 14, 14, 16, 16, 16, 17, 9, 9, 10, 0, 0, 1, 1, 1, 2, 2, 15, 6, 7, 7, 7, 7, 7, 11, 11, 11, 12, 12, 12, 13, 14, 16, 16, 16, 17, 17, 17, 9, 9, 9, 9, 10, 0, 1, 1, 2, 15, 15, 15, 5, 6, 7, 7, 11, 12, 12, 12, 13, 13, 14, 14, 17, 14, 15, 15, 15, 21, 21, 21, 13, 12, 2, 2, 0, 0, 6, 6, 11, 11, 7, 7, 5, 10, 10, 9, 9, 9, 9, 9, 10, 0, 0, 0, 0, 15, 15, 5, 7, 7, 7, 11, 11, 11, 12, 12, 12, 13, 13, 14, 14, 16, 16, 16, 16, 9, 9, 10, 10, 10, 0, 0, 0, 15, 15, 5, 5, 6, 13, 13, 13, 14, 17, 9, 9, 0, 0, 1, 1, 1, 1, 2, 22, 22, 7, 11, 11, 12, 13, 13, 13, 14, 14, 14, 14, 16, 16, 17, 17, 17, 17, 9, 10, 10, 0, 1, 1, 1, 1, 2, 2, 2, 2, 15, 15, 5, 5, 7, 7, 7, 7, 11, 11, 12, 14, 14, 16, 16, 17, 17, 17, 9, 9, 9, 10, 0, 1, 1, 1, 2, 15, 15, 5, 5, 5, 5, 5, 6, 7, 7, 11, 12, 13, 14, 16, 16, 17, 9, 9, 10, 10, 0, 0, 1, 1, 2, 2, 2, 5, 6, 6, 6, 7, 11, 12, 13, 13, 14, 14, 14, 14, 16, 16, 16, 16, 16, 16]\n"
          ],
          "name": "stdout"
        }
      ]
    },
    {
      "cell_type": "code",
      "metadata": {
        "colab": {
          "base_uri": "https://localhost:8080/"
        },
        "id": "VoyiJnaF_As2",
        "outputId": "f8e3d59b-a53c-4c5c-8123-bf79943333d3"
      },
      "source": [
        "ncorrect = sum([y_pred == y for y_pred, y in zip (predicted, test_target)])\n",
        "print(\"correc:\",ncorrect)\n",
        "print(\"total:\",len(test_target))\n",
        "accurracy = ncorrect / len(test_target)\n",
        "print(\"accurracy\", accurracy)"
      ],
      "execution_count": 81,
      "outputs": [
        {
          "output_type": "stream",
          "text": [
            "correc: 195\n",
            "total: 442\n",
            "accurracy 0.4411764705882353\n"
          ],
          "name": "stdout"
        }
      ]
    }
  ]
}