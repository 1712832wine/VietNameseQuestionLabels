{
  "nbformat": 4,
  "nbformat_minor": 0,
  "metadata": {
    "colab": {
      "name": "VietNameseQuestion.ipynb",
      "provenance": [],
      "collapsed_sections": [],
      "toc_visible": true,
      "authorship_tag": "ABX9TyM6B2BPu50/m418Bc/CW2oX",
      "include_colab_link": true
    },
    "kernelspec": {
      "name": "python3",
      "display_name": "Python 3"
    },
    "language_info": {
      "name": "python"
    }
  },
  "cells": [
    {
      "cell_type": "markdown",
      "metadata": {
        "id": "view-in-github",
        "colab_type": "text"
      },
      "source": [
        "<a href=\"https://colab.research.google.com/github/1712832wine/VietNameseQuestionLabels/blob/main/VietNameseQuestion.ipynb\" target=\"_parent\"><img src=\"https://colab.research.google.com/assets/colab-badge.svg\" alt=\"Open In Colab\"/></a>"
      ]
    },
    {
      "cell_type": "code",
      "metadata": {
        "id": "1ZNaAQrOazK7"
      },
      "source": [
        "import csv\n",
        "from collections import Counter\n",
        "train = {\n",
        "    \"sentences\": [],\n",
        "    \"labels\": []\n",
        "}\n",
        "test = {\n",
        "    \"sentences\": [],\n",
        "    \"labels\": []\n",
        "}"
      ],
      "execution_count": 11,
      "outputs": []
    },
    {
      "cell_type": "code",
      "metadata": {
        "id": "GGdBI9BRbuJ6"
      },
      "source": [
        "def read_data(filepath):\n",
        "    with open(filepath, mode='r', encoding='utf-8') as file:\n",
        "        reader = csv.reader(file)\n",
        "        for row in reader:\n",
        "            if (row[1] != ''):\n",
        "                if (row[4]=='TRAIN'):\n",
        "                    train['sentences'].append(row[1])\n",
        "                    train['labels'].append(row[2])\n",
        "                else:\n",
        "                    test['sentences'].append(row[1])\n",
        "                    test['labels'].append(row[2])"
      ],
      "execution_count": 15,
      "outputs": []
    },
    {
      "cell_type": "code",
      "metadata": {
        "colab": {
          "base_uri": "https://localhost:8080/"
        },
        "id": "nnWYzdbhb1Z9",
        "outputId": "b73a61e2-1017-4e88-8e51-d52d12493428"
      },
      "source": [
        "read_data(\"input.csv\")\n",
        "print(train['sentences'][:10])\n",
        "print(test['sentences'][:10])"
      ],
      "execution_count": 16,
      "outputs": [
        {
          "output_type": "stream",
          "text": [
            "['Con gà là con gì', 'Định nghĩa định lí pytago là gì', 'Thế nào gọi là bò sát', 'Thế nào gọi là gia cầm', 'Thế nào gọi là động vật có vú', 'Thế nào gọi là hiệu ứng nhà kính', 'Định nghĩa của môi trường sống', 'Quả cam có vị chua như thế nào', 'Trời hôm nay nóng như thế nào', 'Cơm mẹ nấu ngon như thế nào']\n",
            "['Định nghĩa của thuyết tiến hóa', 'Thế nào gọi là sự nóng lên toàn cầu', 'Thế nào gọi là xe máy', 'Con gà trông như thế nào', 'Quả chanh chua như thế nào', 'Con chó sủa như thế nào', 'Con mèo kêu như thế nào', 'Tại sao nên ăn chín uống sôi', 'Tại sao nên đi ngủ sớm', 'Màu đỏ là màu gì']\n"
          ],
          "name": "stdout"
        }
      ]
    },
    {
      "cell_type": "code",
      "metadata": {
        "colab": {
          "base_uri": "https://localhost:8080/"
        },
        "id": "6obj2ekFcRj-",
        "outputId": "ce01378a-ac6e-400b-d511-5c8290b978a2"
      },
      "source": [
        "# các loại nhãn trong tập train\n",
        "set_labels = Counter(train['labels']).keys()\n",
        "print(set_labels)\n",
        "# labels to id\n",
        "label2id = {x: i for i, x in enumerate(set_labels)}\n",
        "print(label2id)"
      ],
      "execution_count": 24,
      "outputs": [
        {
          "output_type": "stream",
          "text": [
            "dict_keys(['DESC.def', 'DESC.desc', 'DESC.reason', 'ENTY.language', 'ENTY.sport', 'HUM.desc', 'HUM.group', 'HUM.ind', 'LOC.city', 'LOC.country', 'NUM.data', 'ABBR.abb', 'ABBR.exp', 'ENTY', 'LOC', 'NUM', 'NUM.date', 'SELECT', 'ENTY.animal', 'ENTY.plant', 'ENTY.religion', 'Select', 'ENT'])\n",
            "{'DESC.def': 0, 'DESC.desc': 1, 'DESC.reason': 2, 'ENTY.language': 3, 'ENTY.sport': 4, 'HUM.desc': 5, 'HUM.group': 6, 'HUM.ind': 7, 'LOC.city': 8, 'LOC.country': 9, 'NUM.data': 10, 'ABBR.abb': 11, 'ABBR.exp': 12, 'ENTY': 13, 'LOC': 14, 'NUM': 15, 'NUM.date': 16, 'SELECT': 17, 'ENTY.animal': 18, 'ENTY.plant': 19, 'ENTY.religion': 20, 'Select': 21, 'ENT': 22}\n"
          ],
          "name": "stdout"
        }
      ]
    },
    {
      "cell_type": "code",
      "metadata": {
        "id": "JSzgaaFCgSYB"
      },
      "source": [
        ""
      ],
      "execution_count": null,
      "outputs": []
    }
  ]
}